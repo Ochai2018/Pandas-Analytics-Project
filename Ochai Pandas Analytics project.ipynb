{
 "cells": [
  {
   "cell_type": "code",
   "execution_count": 16,
   "id": "b38ea413",
   "metadata": {},
   "outputs": [],
   "source": [
    "import os\n",
    "import glob\n",
    "import pandas as pd\n",
    "os.chdir('C:\\\\Users\\\\OCHAI ODEH\\\\Downloads\\\\Pandas')"
   ]
  },
  {
   "cell_type": "code",
   "execution_count": 17,
   "id": "430a17ad",
   "metadata": {},
   "outputs": [
    {
     "data": {
      "text/plain": [
       "['Abuja_Branch.csv',\n",
       " 'Lagos_Branch.csv',\n",
       " 'Port_Harcourt_Branch.csv',\n",
       " 'README.md',\n",
       " 'Starter_notebook.ipynb']"
      ]
     },
     "execution_count": 17,
     "metadata": {},
     "output_type": "execute_result"
    }
   ],
   "source": [
    "os.listdir('C:\\\\Users\\\\OCHAI ODEH\\\\Downloads\\\\Pandas\\\\Pandas-Analytics-Project-main')"
   ]
  },
  {
   "cell_type": "code",
   "execution_count": 18,
   "id": "575fe66a",
   "metadata": {},
   "outputs": [
    {
     "data": {
      "text/plain": [
       "[]"
      ]
     },
     "execution_count": 18,
     "metadata": {},
     "output_type": "execute_result"
    }
   ],
   "source": [
    "import glob\n",
    "\n",
    "extension = 'csv'\n",
    "glob.glob('C:/Users/OCHAI ODEH/Downloads/Pandas/Pandas-Analytics-Project-main extension')"
   ]
  },
  {
   "cell_type": "code",
   "execution_count": 19,
   "id": "c53b13b3",
   "metadata": {},
   "outputs": [
    {
     "name": "stdout",
     "output_type": "stream",
     "text": [
      "['Abuja_Branch.csv', 'Lagos_Branch.csv', 'Port_Harcourt_Branch.csv']\n"
     ]
    }
   ],
   "source": [
    "path = 'C:\\\\Users\\\\OCHAI ODEH\\\\Downloads\\\\Pandas\\\\Pandas-Analytics-Project-main'\n",
    "extension = 'csv'\n",
    "os.chdir(path)\n",
    "files = glob.glob('*.{}'.format(extension))\n",
    "print(files)"
   ]
  },
  {
   "cell_type": "code",
   "execution_count": 20,
   "id": "53d6d3de",
   "metadata": {},
   "outputs": [
    {
     "name": "stdout",
     "output_type": "stream",
     "text": [
      "['Pandas-Analytics-Project-main\\\\Abuja_Branch.csv', 'Pandas-Analytics-Project-main\\\\Lagos_Branch.csv', 'Pandas-Analytics-Project-main\\\\Port_Harcourt_Branch.csv']\n"
     ]
    }
   ],
   "source": [
    "extension ='csv'\n",
    "os.chdir('C:/Users/OCHAI ODEH/Downloads/Pandas/')\n",
    "result = glob.glob( '*/**.csv' )\n",
    "print( result )"
   ]
  },
  {
   "cell_type": "code",
   "execution_count": 21,
   "id": "83e37982",
   "metadata": {},
   "outputs": [],
   "source": [
    "path = 'C:\\\\Users\\\\OCHAI ODEH\\\\Downloads\\\\Pandas\\\\Pandas-Analytics-Project-main'\n",
    "extension = 'csv'\n",
    "os.chdir(path)\n",
    "#combine files generated in list\n",
    "files = glob.glob('*.{}'.format(extension))\n",
    "#Export to csv\n",
    "combined_csv = pd.concat([pd.read_csv(f) for f in files ])\n",
    "combined_csv.to_csv( \"combined_csv.csv\", index=False, encoding='utf-8-sig')"
   ]
  },
  {
   "cell_type": "code",
   "execution_count": 22,
   "id": "9f934cf1",
   "metadata": {},
   "outputs": [
    {
     "data": {
      "text/html": [
       "<div>\n",
       "<style scoped>\n",
       "    .dataframe tbody tr th:only-of-type {\n",
       "        vertical-align: middle;\n",
       "    }\n",
       "\n",
       "    .dataframe tbody tr th {\n",
       "        vertical-align: top;\n",
       "    }\n",
       "\n",
       "    .dataframe thead th {\n",
       "        text-align: right;\n",
       "    }\n",
       "</style>\n",
       "<table border=\"1\" class=\"dataframe\">\n",
       "  <thead>\n",
       "    <tr style=\"text-align: right;\">\n",
       "      <th></th>\n",
       "      <th>Invoice ID</th>\n",
       "      <th>Branch</th>\n",
       "      <th>City</th>\n",
       "      <th>Customer type</th>\n",
       "      <th>Gender</th>\n",
       "      <th>Product line</th>\n",
       "      <th>Unit price</th>\n",
       "      <th>Quantity</th>\n",
       "      <th>Tax 5%</th>\n",
       "      <th>Total</th>\n",
       "      <th>Date</th>\n",
       "      <th>Time</th>\n",
       "      <th>Payment</th>\n",
       "      <th>cogs</th>\n",
       "      <th>gross margin percentage</th>\n",
       "      <th>gross income</th>\n",
       "      <th>Rating</th>\n",
       "    </tr>\n",
       "  </thead>\n",
       "  <tbody>\n",
       "    <tr>\n",
       "      <th>0</th>\n",
       "      <td>692-92-5582</td>\n",
       "      <td>B</td>\n",
       "      <td>Abuja</td>\n",
       "      <td>Member</td>\n",
       "      <td>Female</td>\n",
       "      <td>Food and beverages</td>\n",
       "      <td>19742.4</td>\n",
       "      <td>3</td>\n",
       "      <td>2961.36</td>\n",
       "      <td>62188.56</td>\n",
       "      <td>2/20/2019</td>\n",
       "      <td>13:27</td>\n",
       "      <td>Card</td>\n",
       "      <td>59227.2</td>\n",
       "      <td>4.761905</td>\n",
       "      <td>2961.36</td>\n",
       "      <td>5.9</td>\n",
       "    </tr>\n",
       "    <tr>\n",
       "      <th>1</th>\n",
       "      <td>351-62-0822</td>\n",
       "      <td>B</td>\n",
       "      <td>Abuja</td>\n",
       "      <td>Member</td>\n",
       "      <td>Female</td>\n",
       "      <td>Fashion accessories</td>\n",
       "      <td>5212.8</td>\n",
       "      <td>4</td>\n",
       "      <td>1042.56</td>\n",
       "      <td>21893.76</td>\n",
       "      <td>2/6/2019</td>\n",
       "      <td>18:07</td>\n",
       "      <td>Epay</td>\n",
       "      <td>20851.2</td>\n",
       "      <td>4.761905</td>\n",
       "      <td>1042.56</td>\n",
       "      <td>4.5</td>\n",
       "    </tr>\n",
       "    <tr>\n",
       "      <th>2</th>\n",
       "      <td>529-56-3974</td>\n",
       "      <td>B</td>\n",
       "      <td>Abuja</td>\n",
       "      <td>Member</td>\n",
       "      <td>Male</td>\n",
       "      <td>Electronic accessories</td>\n",
       "      <td>9183.6</td>\n",
       "      <td>4</td>\n",
       "      <td>1836.72</td>\n",
       "      <td>38571.12</td>\n",
       "      <td>3/9/2019</td>\n",
       "      <td>17:03</td>\n",
       "      <td>Cash</td>\n",
       "      <td>36734.4</td>\n",
       "      <td>4.761905</td>\n",
       "      <td>1836.72</td>\n",
       "      <td>6.8</td>\n",
       "    </tr>\n",
       "    <tr>\n",
       "      <th>3</th>\n",
       "      <td>299-46-1805</td>\n",
       "      <td>B</td>\n",
       "      <td>Abuja</td>\n",
       "      <td>Member</td>\n",
       "      <td>Female</td>\n",
       "      <td>Sports and travel</td>\n",
       "      <td>33739.2</td>\n",
       "      <td>6</td>\n",
       "      <td>10121.76</td>\n",
       "      <td>212556.96</td>\n",
       "      <td>1/15/2019</td>\n",
       "      <td>16:19</td>\n",
       "      <td>Cash</td>\n",
       "      <td>202435.2</td>\n",
       "      <td>4.761905</td>\n",
       "      <td>10121.76</td>\n",
       "      <td>4.5</td>\n",
       "    </tr>\n",
       "    <tr>\n",
       "      <th>4</th>\n",
       "      <td>319-50-3348</td>\n",
       "      <td>B</td>\n",
       "      <td>Abuja</td>\n",
       "      <td>Normal</td>\n",
       "      <td>Female</td>\n",
       "      <td>Home and lifestyle</td>\n",
       "      <td>14508.0</td>\n",
       "      <td>2</td>\n",
       "      <td>1450.80</td>\n",
       "      <td>30466.80</td>\n",
       "      <td>3/11/2019</td>\n",
       "      <td>15:30</td>\n",
       "      <td>Epay</td>\n",
       "      <td>29016.0</td>\n",
       "      <td>4.761905</td>\n",
       "      <td>1450.80</td>\n",
       "      <td>4.4</td>\n",
       "    </tr>\n",
       "    <tr>\n",
       "      <th>...</th>\n",
       "      <td>...</td>\n",
       "      <td>...</td>\n",
       "      <td>...</td>\n",
       "      <td>...</td>\n",
       "      <td>...</td>\n",
       "      <td>...</td>\n",
       "      <td>...</td>\n",
       "      <td>...</td>\n",
       "      <td>...</td>\n",
       "      <td>...</td>\n",
       "      <td>...</td>\n",
       "      <td>...</td>\n",
       "      <td>...</td>\n",
       "      <td>...</td>\n",
       "      <td>...</td>\n",
       "      <td>...</td>\n",
       "      <td>...</td>\n",
       "    </tr>\n",
       "    <tr>\n",
       "      <th>1995</th>\n",
       "      <td>148-41-7930</td>\n",
       "      <td>C</td>\n",
       "      <td>Port Harcourt</td>\n",
       "      <td>Normal</td>\n",
       "      <td>Male</td>\n",
       "      <td>Health and beauty</td>\n",
       "      <td>35985.6</td>\n",
       "      <td>7</td>\n",
       "      <td>12594.96</td>\n",
       "      <td>264494.16</td>\n",
       "      <td>1/23/2019</td>\n",
       "      <td>10:33</td>\n",
       "      <td>Cash</td>\n",
       "      <td>251899.2</td>\n",
       "      <td>4.761905</td>\n",
       "      <td>12594.96</td>\n",
       "      <td>6.1</td>\n",
       "    </tr>\n",
       "    <tr>\n",
       "      <th>1996</th>\n",
       "      <td>189-40-5216</td>\n",
       "      <td>C</td>\n",
       "      <td>Port Harcourt</td>\n",
       "      <td>Normal</td>\n",
       "      <td>Male</td>\n",
       "      <td>Electronic accessories</td>\n",
       "      <td>34693.2</td>\n",
       "      <td>7</td>\n",
       "      <td>12142.62</td>\n",
       "      <td>254995.02</td>\n",
       "      <td>1/9/2019</td>\n",
       "      <td>11:40</td>\n",
       "      <td>Cash</td>\n",
       "      <td>242852.4</td>\n",
       "      <td>4.761905</td>\n",
       "      <td>12142.62</td>\n",
       "      <td>6.0</td>\n",
       "    </tr>\n",
       "    <tr>\n",
       "      <th>1997</th>\n",
       "      <td>267-62-7380</td>\n",
       "      <td>C</td>\n",
       "      <td>Port Harcourt</td>\n",
       "      <td>Member</td>\n",
       "      <td>Male</td>\n",
       "      <td>Electronic accessories</td>\n",
       "      <td>29642.4</td>\n",
       "      <td>10</td>\n",
       "      <td>14821.20</td>\n",
       "      <td>311245.20</td>\n",
       "      <td>3/29/2019</td>\n",
       "      <td>19:12</td>\n",
       "      <td>Epay</td>\n",
       "      <td>296424.0</td>\n",
       "      <td>4.761905</td>\n",
       "      <td>14821.20</td>\n",
       "      <td>4.3</td>\n",
       "    </tr>\n",
       "    <tr>\n",
       "      <th>1998</th>\n",
       "      <td>652-49-6720</td>\n",
       "      <td>C</td>\n",
       "      <td>Port Harcourt</td>\n",
       "      <td>Member</td>\n",
       "      <td>Female</td>\n",
       "      <td>Electronic accessories</td>\n",
       "      <td>21942.0</td>\n",
       "      <td>1</td>\n",
       "      <td>1097.10</td>\n",
       "      <td>23039.10</td>\n",
       "      <td>2/18/2019</td>\n",
       "      <td>11:40</td>\n",
       "      <td>Epay</td>\n",
       "      <td>21942.0</td>\n",
       "      <td>4.761905</td>\n",
       "      <td>1097.10</td>\n",
       "      <td>5.9</td>\n",
       "    </tr>\n",
       "    <tr>\n",
       "      <th>1999</th>\n",
       "      <td>233-67-5758</td>\n",
       "      <td>C</td>\n",
       "      <td>Port Harcourt</td>\n",
       "      <td>Normal</td>\n",
       "      <td>Male</td>\n",
       "      <td>Health and beauty</td>\n",
       "      <td>14526.0</td>\n",
       "      <td>1</td>\n",
       "      <td>726.30</td>\n",
       "      <td>15252.30</td>\n",
       "      <td>1/29/2019</td>\n",
       "      <td>13:46</td>\n",
       "      <td>Epay</td>\n",
       "      <td>14526.0</td>\n",
       "      <td>4.761905</td>\n",
       "      <td>726.30</td>\n",
       "      <td>6.2</td>\n",
       "    </tr>\n",
       "  </tbody>\n",
       "</table>\n",
       "<p>2000 rows × 17 columns</p>\n",
       "</div>"
      ],
      "text/plain": [
       "       Invoice ID Branch           City Customer type  Gender  \\\n",
       "0     692-92-5582      B          Abuja        Member  Female   \n",
       "1     351-62-0822      B          Abuja        Member  Female   \n",
       "2     529-56-3974      B          Abuja        Member    Male   \n",
       "3     299-46-1805      B          Abuja        Member  Female   \n",
       "4     319-50-3348      B          Abuja        Normal  Female   \n",
       "...           ...    ...            ...           ...     ...   \n",
       "1995  148-41-7930      C  Port Harcourt        Normal    Male   \n",
       "1996  189-40-5216      C  Port Harcourt        Normal    Male   \n",
       "1997  267-62-7380      C  Port Harcourt        Member    Male   \n",
       "1998  652-49-6720      C  Port Harcourt        Member  Female   \n",
       "1999  233-67-5758      C  Port Harcourt        Normal    Male   \n",
       "\n",
       "                Product line  Unit price  Quantity    Tax 5%      Total  \\\n",
       "0         Food and beverages     19742.4         3   2961.36   62188.56   \n",
       "1        Fashion accessories      5212.8         4   1042.56   21893.76   \n",
       "2     Electronic accessories      9183.6         4   1836.72   38571.12   \n",
       "3          Sports and travel     33739.2         6  10121.76  212556.96   \n",
       "4         Home and lifestyle     14508.0         2   1450.80   30466.80   \n",
       "...                      ...         ...       ...       ...        ...   \n",
       "1995       Health and beauty     35985.6         7  12594.96  264494.16   \n",
       "1996  Electronic accessories     34693.2         7  12142.62  254995.02   \n",
       "1997  Electronic accessories     29642.4        10  14821.20  311245.20   \n",
       "1998  Electronic accessories     21942.0         1   1097.10   23039.10   \n",
       "1999       Health and beauty     14526.0         1    726.30   15252.30   \n",
       "\n",
       "           Date   Time Payment      cogs  gross margin percentage  \\\n",
       "0     2/20/2019  13:27    Card   59227.2                 4.761905   \n",
       "1      2/6/2019  18:07    Epay   20851.2                 4.761905   \n",
       "2      3/9/2019  17:03    Cash   36734.4                 4.761905   \n",
       "3     1/15/2019  16:19    Cash  202435.2                 4.761905   \n",
       "4     3/11/2019  15:30    Epay   29016.0                 4.761905   \n",
       "...         ...    ...     ...       ...                      ...   \n",
       "1995  1/23/2019  10:33    Cash  251899.2                 4.761905   \n",
       "1996   1/9/2019  11:40    Cash  242852.4                 4.761905   \n",
       "1997  3/29/2019  19:12    Epay  296424.0                 4.761905   \n",
       "1998  2/18/2019  11:40    Epay   21942.0                 4.761905   \n",
       "1999  1/29/2019  13:46    Epay   14526.0                 4.761905   \n",
       "\n",
       "      gross income  Rating  \n",
       "0          2961.36     5.9  \n",
       "1          1042.56     4.5  \n",
       "2          1836.72     6.8  \n",
       "3         10121.76     4.5  \n",
       "4          1450.80     4.4  \n",
       "...            ...     ...  \n",
       "1995      12594.96     6.1  \n",
       "1996      12142.62     6.0  \n",
       "1997      14821.20     4.3  \n",
       "1998       1097.10     5.9  \n",
       "1999        726.30     6.2  \n",
       "\n",
       "[2000 rows x 17 columns]"
      ]
     },
     "execution_count": 22,
     "metadata": {},
     "output_type": "execute_result"
    }
   ],
   "source": [
    "#Read the CSV file using pd.read_csv method\n",
    "path = 'C:\\\\Users\\\\OCHAI ODEH\\\\Downloads\\\\Pandas\\\\Pandas-Analytics-Project-main'\n",
    "extension = 'csv'\n",
    "os.chdir(path)\n",
    "#combine files generated in list\n",
    "files = glob.glob('*.{}'.format(extension))\n",
    "#Export to csv\n",
    "combined_csv = pd.concat([pd.read_csv(f) for f in files ])\n",
    "combined_csv.to_csv( \"combined_csv.csv\", index=False, encoding='utf-8-sig')\n",
    "#Read the CSV file using pd.read_csv method\n",
    "pd.read_csv(\"combined_csv.csv\")"
   ]
  },
  {
   "cell_type": "markdown",
   "id": "da9651bb",
   "metadata": {},
   "source": [
    "Data Exploration"
   ]
  },
  {
   "cell_type": "code",
   "execution_count": 23,
   "id": "eefa7619",
   "metadata": {},
   "outputs": [],
   "source": [
    "import pandas as pd\n",
    "import numpy as np\n",
    "import seaborn as sns\n",
    "import matplotlib.pyplot as plt\n",
    "%matplotlib inline\n",
    "plt.style.use('fivethirtyeight')  \n",
    "import warnings\n",
    "warnings.filterwarnings('ignore')"
   ]
  },
  {
   "cell_type": "code",
   "execution_count": 24,
   "id": "167d6440",
   "metadata": {},
   "outputs": [],
   "source": [
    "df = combined_csv"
   ]
  },
  {
   "cell_type": "code",
   "execution_count": 25,
   "id": "ee95da01",
   "metadata": {},
   "outputs": [
    {
     "data": {
      "text/html": [
       "<div>\n",
       "<style scoped>\n",
       "    .dataframe tbody tr th:only-of-type {\n",
       "        vertical-align: middle;\n",
       "    }\n",
       "\n",
       "    .dataframe tbody tr th {\n",
       "        vertical-align: top;\n",
       "    }\n",
       "\n",
       "    .dataframe thead th {\n",
       "        text-align: right;\n",
       "    }\n",
       "</style>\n",
       "<table border=\"1\" class=\"dataframe\">\n",
       "  <thead>\n",
       "    <tr style=\"text-align: right;\">\n",
       "      <th></th>\n",
       "      <th>Invoice ID</th>\n",
       "      <th>Branch</th>\n",
       "      <th>City</th>\n",
       "      <th>Customer type</th>\n",
       "      <th>Gender</th>\n",
       "      <th>Product line</th>\n",
       "      <th>Unit price</th>\n",
       "      <th>Quantity</th>\n",
       "      <th>Tax 5%</th>\n",
       "      <th>Total</th>\n",
       "      <th>Date</th>\n",
       "      <th>Time</th>\n",
       "      <th>Payment</th>\n",
       "      <th>cogs</th>\n",
       "      <th>gross margin percentage</th>\n",
       "      <th>gross income</th>\n",
       "      <th>Rating</th>\n",
       "    </tr>\n",
       "  </thead>\n",
       "  <tbody>\n",
       "    <tr>\n",
       "      <th>0</th>\n",
       "      <td>692-92-5582</td>\n",
       "      <td>B</td>\n",
       "      <td>Abuja</td>\n",
       "      <td>Member</td>\n",
       "      <td>Female</td>\n",
       "      <td>Food and beverages</td>\n",
       "      <td>19742.4</td>\n",
       "      <td>3</td>\n",
       "      <td>2961.36</td>\n",
       "      <td>62188.56</td>\n",
       "      <td>2/20/2019</td>\n",
       "      <td>13:27</td>\n",
       "      <td>Card</td>\n",
       "      <td>59227.2</td>\n",
       "      <td>4.761905</td>\n",
       "      <td>2961.36</td>\n",
       "      <td>5.9</td>\n",
       "    </tr>\n",
       "    <tr>\n",
       "      <th>1</th>\n",
       "      <td>351-62-0822</td>\n",
       "      <td>B</td>\n",
       "      <td>Abuja</td>\n",
       "      <td>Member</td>\n",
       "      <td>Female</td>\n",
       "      <td>Fashion accessories</td>\n",
       "      <td>5212.8</td>\n",
       "      <td>4</td>\n",
       "      <td>1042.56</td>\n",
       "      <td>21893.76</td>\n",
       "      <td>2/6/2019</td>\n",
       "      <td>18:07</td>\n",
       "      <td>Epay</td>\n",
       "      <td>20851.2</td>\n",
       "      <td>4.761905</td>\n",
       "      <td>1042.56</td>\n",
       "      <td>4.5</td>\n",
       "    </tr>\n",
       "    <tr>\n",
       "      <th>2</th>\n",
       "      <td>529-56-3974</td>\n",
       "      <td>B</td>\n",
       "      <td>Abuja</td>\n",
       "      <td>Member</td>\n",
       "      <td>Male</td>\n",
       "      <td>Electronic accessories</td>\n",
       "      <td>9183.6</td>\n",
       "      <td>4</td>\n",
       "      <td>1836.72</td>\n",
       "      <td>38571.12</td>\n",
       "      <td>3/9/2019</td>\n",
       "      <td>17:03</td>\n",
       "      <td>Cash</td>\n",
       "      <td>36734.4</td>\n",
       "      <td>4.761905</td>\n",
       "      <td>1836.72</td>\n",
       "      <td>6.8</td>\n",
       "    </tr>\n",
       "    <tr>\n",
       "      <th>3</th>\n",
       "      <td>299-46-1805</td>\n",
       "      <td>B</td>\n",
       "      <td>Abuja</td>\n",
       "      <td>Member</td>\n",
       "      <td>Female</td>\n",
       "      <td>Sports and travel</td>\n",
       "      <td>33739.2</td>\n",
       "      <td>6</td>\n",
       "      <td>10121.76</td>\n",
       "      <td>212556.96</td>\n",
       "      <td>1/15/2019</td>\n",
       "      <td>16:19</td>\n",
       "      <td>Cash</td>\n",
       "      <td>202435.2</td>\n",
       "      <td>4.761905</td>\n",
       "      <td>10121.76</td>\n",
       "      <td>4.5</td>\n",
       "    </tr>\n",
       "    <tr>\n",
       "      <th>4</th>\n",
       "      <td>319-50-3348</td>\n",
       "      <td>B</td>\n",
       "      <td>Abuja</td>\n",
       "      <td>Normal</td>\n",
       "      <td>Female</td>\n",
       "      <td>Home and lifestyle</td>\n",
       "      <td>14508.0</td>\n",
       "      <td>2</td>\n",
       "      <td>1450.80</td>\n",
       "      <td>30466.80</td>\n",
       "      <td>3/11/2019</td>\n",
       "      <td>15:30</td>\n",
       "      <td>Epay</td>\n",
       "      <td>29016.0</td>\n",
       "      <td>4.761905</td>\n",
       "      <td>1450.80</td>\n",
       "      <td>4.4</td>\n",
       "    </tr>\n",
       "  </tbody>\n",
       "</table>\n",
       "</div>"
      ],
      "text/plain": [
       "    Invoice ID Branch   City Customer type  Gender            Product line  \\\n",
       "0  692-92-5582      B  Abuja        Member  Female      Food and beverages   \n",
       "1  351-62-0822      B  Abuja        Member  Female     Fashion accessories   \n",
       "2  529-56-3974      B  Abuja        Member    Male  Electronic accessories   \n",
       "3  299-46-1805      B  Abuja        Member  Female       Sports and travel   \n",
       "4  319-50-3348      B  Abuja        Normal  Female      Home and lifestyle   \n",
       "\n",
       "   Unit price  Quantity    Tax 5%      Total       Date   Time Payment  \\\n",
       "0     19742.4         3   2961.36   62188.56  2/20/2019  13:27    Card   \n",
       "1      5212.8         4   1042.56   21893.76   2/6/2019  18:07    Epay   \n",
       "2      9183.6         4   1836.72   38571.12   3/9/2019  17:03    Cash   \n",
       "3     33739.2         6  10121.76  212556.96  1/15/2019  16:19    Cash   \n",
       "4     14508.0         2   1450.80   30466.80  3/11/2019  15:30    Epay   \n",
       "\n",
       "       cogs  gross margin percentage  gross income  Rating  \n",
       "0   59227.2                 4.761905       2961.36     5.9  \n",
       "1   20851.2                 4.761905       1042.56     4.5  \n",
       "2   36734.4                 4.761905       1836.72     6.8  \n",
       "3  202435.2                 4.761905      10121.76     4.5  \n",
       "4   29016.0                 4.761905       1450.80     4.4  "
      ]
     },
     "execution_count": 25,
     "metadata": {},
     "output_type": "execute_result"
    }
   ],
   "source": [
    "#Use the head() method to view first few rows of the dataset\n",
    "df = combined_csv\n",
    "df.head()"
   ]
  },
  {
   "cell_type": "code",
   "execution_count": 27,
   "id": "7693af83",
   "metadata": {},
   "outputs": [
    {
     "name": "stdout",
     "output_type": "stream",
     "text": [
      "Number of rows is 2000\n",
      "Number of columns is 17\n"
     ]
    }
   ],
   "source": [
    "#Check the number of rows and columns present in the data using the shape attribute\n",
    "row_count = df.shape[0]  # Gives number of rows\n",
    "col_count = df.shape[1] # Gives number of columns\n",
    "print('Number of rows is', row_count)\n",
    "print('Number of columns is', col_count)"
   ]
  },
  {
   "cell_type": "code",
   "execution_count": 28,
   "id": "f5a5e830",
   "metadata": {},
   "outputs": [
    {
     "name": "stdout",
     "output_type": "stream",
     "text": [
      "Index(['Invoice ID', 'Branch', 'City', 'Customer type', 'Gender',\n",
      "       'Product line', 'Unit price', 'Quantity', 'Tax 5%', 'Total', 'Date',\n",
      "       'Time', 'Payment', 'cogs', 'gross margin percentage', 'gross income',\n",
      "       'Rating'],\n",
      "      dtype='object')\n"
     ]
    }
   ],
   "source": [
    "#Generate the names of the columns using the columns attribute.\n",
    "\n",
    "column_labels = df.columns   #return the column labels\n",
    "print(column_labels)         # Print the result"
   ]
  },
  {
   "cell_type": "code",
   "execution_count": 29,
   "id": "50a3a974",
   "metadata": {},
   "outputs": [
    {
     "data": {
      "text/html": [
       "<div>\n",
       "<style scoped>\n",
       "    .dataframe tbody tr th:only-of-type {\n",
       "        vertical-align: middle;\n",
       "    }\n",
       "\n",
       "    .dataframe tbody tr th {\n",
       "        vertical-align: top;\n",
       "    }\n",
       "\n",
       "    .dataframe thead th {\n",
       "        text-align: right;\n",
       "    }\n",
       "</style>\n",
       "<table border=\"1\" class=\"dataframe\">\n",
       "  <thead>\n",
       "    <tr style=\"text-align: right;\">\n",
       "      <th></th>\n",
       "      <th>Unit price</th>\n",
       "      <th>Quantity</th>\n",
       "      <th>Tax 5%</th>\n",
       "      <th>Total</th>\n",
       "      <th>cogs</th>\n",
       "      <th>gross margin percentage</th>\n",
       "      <th>gross income</th>\n",
       "      <th>Rating</th>\n",
       "    </tr>\n",
       "  </thead>\n",
       "  <tbody>\n",
       "    <tr>\n",
       "      <th>count</th>\n",
       "      <td>2000.000000</td>\n",
       "      <td>2000.000000</td>\n",
       "      <td>2000.00000</td>\n",
       "      <td>2000.000000</td>\n",
       "      <td>2000.000000</td>\n",
       "      <td>2.000000e+03</td>\n",
       "      <td>2000.00000</td>\n",
       "      <td>2000.00000</td>\n",
       "    </tr>\n",
       "    <tr>\n",
       "      <th>mean</th>\n",
       "      <td>20041.966800</td>\n",
       "      <td>5.510000</td>\n",
       "      <td>5536.57284</td>\n",
       "      <td>116268.029640</td>\n",
       "      <td>110731.456800</td>\n",
       "      <td>4.761905e+00</td>\n",
       "      <td>5536.57284</td>\n",
       "      <td>6.97270</td>\n",
       "    </tr>\n",
       "    <tr>\n",
       "      <th>std</th>\n",
       "      <td>9535.680197</td>\n",
       "      <td>2.922699</td>\n",
       "      <td>4214.12272</td>\n",
       "      <td>88496.577116</td>\n",
       "      <td>84282.454396</td>\n",
       "      <td>5.419243e-14</td>\n",
       "      <td>4214.12272</td>\n",
       "      <td>1.71815</td>\n",
       "    </tr>\n",
       "    <tr>\n",
       "      <th>min</th>\n",
       "      <td>3628.800000</td>\n",
       "      <td>1.000000</td>\n",
       "      <td>183.06000</td>\n",
       "      <td>3844.260000</td>\n",
       "      <td>3661.200000</td>\n",
       "      <td>4.761905e+00</td>\n",
       "      <td>183.06000</td>\n",
       "      <td>4.00000</td>\n",
       "    </tr>\n",
       "    <tr>\n",
       "      <th>25%</th>\n",
       "      <td>11835.000000</td>\n",
       "      <td>3.000000</td>\n",
       "      <td>2132.95500</td>\n",
       "      <td>44792.055000</td>\n",
       "      <td>42659.100000</td>\n",
       "      <td>4.761905e+00</td>\n",
       "      <td>2132.95500</td>\n",
       "      <td>5.50000</td>\n",
       "    </tr>\n",
       "    <tr>\n",
       "      <th>50%</th>\n",
       "      <td>19882.800000</td>\n",
       "      <td>5.000000</td>\n",
       "      <td>4351.68000</td>\n",
       "      <td>91385.280000</td>\n",
       "      <td>87033.600000</td>\n",
       "      <td>4.761905e+00</td>\n",
       "      <td>4351.68000</td>\n",
       "      <td>7.00000</td>\n",
       "    </tr>\n",
       "    <tr>\n",
       "      <th>75%</th>\n",
       "      <td>28056.600000</td>\n",
       "      <td>8.000000</td>\n",
       "      <td>8080.29000</td>\n",
       "      <td>169686.090000</td>\n",
       "      <td>161605.800000</td>\n",
       "      <td>4.761905e+00</td>\n",
       "      <td>8080.29000</td>\n",
       "      <td>8.50000</td>\n",
       "    </tr>\n",
       "    <tr>\n",
       "      <th>max</th>\n",
       "      <td>35985.600000</td>\n",
       "      <td>10.000000</td>\n",
       "      <td>17874.00000</td>\n",
       "      <td>375354.000000</td>\n",
       "      <td>357480.000000</td>\n",
       "      <td>4.761905e+00</td>\n",
       "      <td>17874.00000</td>\n",
       "      <td>10.00000</td>\n",
       "    </tr>\n",
       "  </tbody>\n",
       "</table>\n",
       "</div>"
      ],
      "text/plain": [
       "         Unit price     Quantity       Tax 5%          Total           cogs  \\\n",
       "count   2000.000000  2000.000000   2000.00000    2000.000000    2000.000000   \n",
       "mean   20041.966800     5.510000   5536.57284  116268.029640  110731.456800   \n",
       "std     9535.680197     2.922699   4214.12272   88496.577116   84282.454396   \n",
       "min     3628.800000     1.000000    183.06000    3844.260000    3661.200000   \n",
       "25%    11835.000000     3.000000   2132.95500   44792.055000   42659.100000   \n",
       "50%    19882.800000     5.000000   4351.68000   91385.280000   87033.600000   \n",
       "75%    28056.600000     8.000000   8080.29000  169686.090000  161605.800000   \n",
       "max    35985.600000    10.000000  17874.00000  375354.000000  357480.000000   \n",
       "\n",
       "       gross margin percentage  gross income      Rating  \n",
       "count             2.000000e+03    2000.00000  2000.00000  \n",
       "mean              4.761905e+00    5536.57284     6.97270  \n",
       "std               5.419243e-14    4214.12272     1.71815  \n",
       "min               4.761905e+00     183.06000     4.00000  \n",
       "25%               4.761905e+00    2132.95500     5.50000  \n",
       "50%               4.761905e+00    4351.68000     7.00000  \n",
       "75%               4.761905e+00    8080.29000     8.50000  \n",
       "max               4.761905e+00   17874.00000    10.00000  "
      ]
     },
     "execution_count": 29,
     "metadata": {},
     "output_type": "execute_result"
    }
   ],
   "source": [
    "# Statistical summary\n",
    "df.describe()\n",
    "# Below this cell write in few sentences what you can derive from the data statistical summary\n"
   ]
  },
  {
   "cell_type": "code",
   "execution_count": 30,
   "id": "fd085f6e",
   "metadata": {},
   "outputs": [
    {
     "name": "stdout",
     "output_type": "stream",
     "text": [
      "From the 2000 records, maximum sales of 10.000000 products and minimum sale of 1.000000 product was recorded.\n",
      "Taxes of 5% on all products are equivalent to the gross incomes from sales.\n",
      "The company's maximum gross income was 17874.0000 for 10 products has the highest rating.\n",
      "Only one product with minimum unit price of 3628.800000 giving the lowest gross income of 183.06000 also has the lowest rating.\n",
      "There are large differences in unit prices of products, Taxes of 5% and gross incomes, going by their respective value of standard deviations of 9534.487865 and 4213.59579 respectively.\n",
      "Gross margin percentages for all variable are almost the same. There are no missing values in the table.\n"
     ]
    }
   ],
   "source": [
    "print(\"From the 2000 records, maximum sales of 10.000000 products and minimum sale of 1.000000 product was recorded.\") \n",
    "      \n",
    "print(\"Taxes of 5% on all products are equivalent to the gross incomes from sales.\") \n",
    "      \n",
    "print(\"The company's maximum gross income was 17874.0000 for 10 products has the highest rating.\")\n",
    "      \n",
    "print(\"Only one product with minimum unit price of 3628.800000 giving the lowest gross income of 183.06000 also has the lowest rating.\")\n",
    "      \n",
    "print(\"There are large differences in unit prices of products, Taxes of 5% and gross incomes, going by their respective value of standard deviations of 9534.487865 and 4213.59579 respectively.\")      \n",
    "\n",
    "print(\"Gross margin percentages for all variable are almost the same. There are no missing values in the table.\")"
   ]
  },
  {
   "cell_type": "code",
   "execution_count": 31,
   "id": "7746babf",
   "metadata": {},
   "outputs": [
    {
     "data": {
      "text/html": [
       "<div>\n",
       "<style scoped>\n",
       "    .dataframe tbody tr th:only-of-type {\n",
       "        vertical-align: middle;\n",
       "    }\n",
       "\n",
       "    .dataframe tbody tr th {\n",
       "        vertical-align: top;\n",
       "    }\n",
       "\n",
       "    .dataframe thead th {\n",
       "        text-align: right;\n",
       "    }\n",
       "</style>\n",
       "<table border=\"1\" class=\"dataframe\">\n",
       "  <thead>\n",
       "    <tr style=\"text-align: right;\">\n",
       "      <th></th>\n",
       "      <th>Invoice ID</th>\n",
       "      <th>Branch</th>\n",
       "      <th>City</th>\n",
       "      <th>Customer type</th>\n",
       "      <th>Gender</th>\n",
       "      <th>Product line</th>\n",
       "      <th>Unit price</th>\n",
       "      <th>Quantity</th>\n",
       "      <th>Tax 5%</th>\n",
       "      <th>Total</th>\n",
       "      <th>Date</th>\n",
       "      <th>Time</th>\n",
       "      <th>Payment</th>\n",
       "      <th>cogs</th>\n",
       "      <th>gross margin percentage</th>\n",
       "      <th>gross income</th>\n",
       "      <th>Rating</th>\n",
       "    </tr>\n",
       "  </thead>\n",
       "  <tbody>\n",
       "    <tr>\n",
       "      <th>0</th>\n",
       "      <td>False</td>\n",
       "      <td>False</td>\n",
       "      <td>False</td>\n",
       "      <td>False</td>\n",
       "      <td>False</td>\n",
       "      <td>False</td>\n",
       "      <td>False</td>\n",
       "      <td>False</td>\n",
       "      <td>False</td>\n",
       "      <td>False</td>\n",
       "      <td>False</td>\n",
       "      <td>False</td>\n",
       "      <td>False</td>\n",
       "      <td>False</td>\n",
       "      <td>False</td>\n",
       "      <td>False</td>\n",
       "      <td>False</td>\n",
       "    </tr>\n",
       "    <tr>\n",
       "      <th>1</th>\n",
       "      <td>False</td>\n",
       "      <td>False</td>\n",
       "      <td>False</td>\n",
       "      <td>False</td>\n",
       "      <td>False</td>\n",
       "      <td>False</td>\n",
       "      <td>False</td>\n",
       "      <td>False</td>\n",
       "      <td>False</td>\n",
       "      <td>False</td>\n",
       "      <td>False</td>\n",
       "      <td>False</td>\n",
       "      <td>False</td>\n",
       "      <td>False</td>\n",
       "      <td>False</td>\n",
       "      <td>False</td>\n",
       "      <td>False</td>\n",
       "    </tr>\n",
       "    <tr>\n",
       "      <th>2</th>\n",
       "      <td>False</td>\n",
       "      <td>False</td>\n",
       "      <td>False</td>\n",
       "      <td>False</td>\n",
       "      <td>False</td>\n",
       "      <td>False</td>\n",
       "      <td>False</td>\n",
       "      <td>False</td>\n",
       "      <td>False</td>\n",
       "      <td>False</td>\n",
       "      <td>False</td>\n",
       "      <td>False</td>\n",
       "      <td>False</td>\n",
       "      <td>False</td>\n",
       "      <td>False</td>\n",
       "      <td>False</td>\n",
       "      <td>False</td>\n",
       "    </tr>\n",
       "    <tr>\n",
       "      <th>3</th>\n",
       "      <td>False</td>\n",
       "      <td>False</td>\n",
       "      <td>False</td>\n",
       "      <td>False</td>\n",
       "      <td>False</td>\n",
       "      <td>False</td>\n",
       "      <td>False</td>\n",
       "      <td>False</td>\n",
       "      <td>False</td>\n",
       "      <td>False</td>\n",
       "      <td>False</td>\n",
       "      <td>False</td>\n",
       "      <td>False</td>\n",
       "      <td>False</td>\n",
       "      <td>False</td>\n",
       "      <td>False</td>\n",
       "      <td>False</td>\n",
       "    </tr>\n",
       "    <tr>\n",
       "      <th>4</th>\n",
       "      <td>False</td>\n",
       "      <td>False</td>\n",
       "      <td>False</td>\n",
       "      <td>False</td>\n",
       "      <td>False</td>\n",
       "      <td>False</td>\n",
       "      <td>False</td>\n",
       "      <td>False</td>\n",
       "      <td>False</td>\n",
       "      <td>False</td>\n",
       "      <td>False</td>\n",
       "      <td>False</td>\n",
       "      <td>False</td>\n",
       "      <td>False</td>\n",
       "      <td>False</td>\n",
       "      <td>False</td>\n",
       "      <td>False</td>\n",
       "    </tr>\n",
       "    <tr>\n",
       "      <th>...</th>\n",
       "      <td>...</td>\n",
       "      <td>...</td>\n",
       "      <td>...</td>\n",
       "      <td>...</td>\n",
       "      <td>...</td>\n",
       "      <td>...</td>\n",
       "      <td>...</td>\n",
       "      <td>...</td>\n",
       "      <td>...</td>\n",
       "      <td>...</td>\n",
       "      <td>...</td>\n",
       "      <td>...</td>\n",
       "      <td>...</td>\n",
       "      <td>...</td>\n",
       "      <td>...</td>\n",
       "      <td>...</td>\n",
       "      <td>...</td>\n",
       "    </tr>\n",
       "    <tr>\n",
       "      <th>323</th>\n",
       "      <td>False</td>\n",
       "      <td>False</td>\n",
       "      <td>False</td>\n",
       "      <td>False</td>\n",
       "      <td>False</td>\n",
       "      <td>False</td>\n",
       "      <td>False</td>\n",
       "      <td>False</td>\n",
       "      <td>False</td>\n",
       "      <td>False</td>\n",
       "      <td>False</td>\n",
       "      <td>False</td>\n",
       "      <td>False</td>\n",
       "      <td>False</td>\n",
       "      <td>False</td>\n",
       "      <td>False</td>\n",
       "      <td>False</td>\n",
       "    </tr>\n",
       "    <tr>\n",
       "      <th>324</th>\n",
       "      <td>False</td>\n",
       "      <td>False</td>\n",
       "      <td>False</td>\n",
       "      <td>False</td>\n",
       "      <td>False</td>\n",
       "      <td>False</td>\n",
       "      <td>False</td>\n",
       "      <td>False</td>\n",
       "      <td>False</td>\n",
       "      <td>False</td>\n",
       "      <td>False</td>\n",
       "      <td>False</td>\n",
       "      <td>False</td>\n",
       "      <td>False</td>\n",
       "      <td>False</td>\n",
       "      <td>False</td>\n",
       "      <td>False</td>\n",
       "    </tr>\n",
       "    <tr>\n",
       "      <th>325</th>\n",
       "      <td>False</td>\n",
       "      <td>False</td>\n",
       "      <td>False</td>\n",
       "      <td>False</td>\n",
       "      <td>False</td>\n",
       "      <td>False</td>\n",
       "      <td>False</td>\n",
       "      <td>False</td>\n",
       "      <td>False</td>\n",
       "      <td>False</td>\n",
       "      <td>False</td>\n",
       "      <td>False</td>\n",
       "      <td>False</td>\n",
       "      <td>False</td>\n",
       "      <td>False</td>\n",
       "      <td>False</td>\n",
       "      <td>False</td>\n",
       "    </tr>\n",
       "    <tr>\n",
       "      <th>326</th>\n",
       "      <td>False</td>\n",
       "      <td>False</td>\n",
       "      <td>False</td>\n",
       "      <td>False</td>\n",
       "      <td>False</td>\n",
       "      <td>False</td>\n",
       "      <td>False</td>\n",
       "      <td>False</td>\n",
       "      <td>False</td>\n",
       "      <td>False</td>\n",
       "      <td>False</td>\n",
       "      <td>False</td>\n",
       "      <td>False</td>\n",
       "      <td>False</td>\n",
       "      <td>False</td>\n",
       "      <td>False</td>\n",
       "      <td>False</td>\n",
       "    </tr>\n",
       "    <tr>\n",
       "      <th>327</th>\n",
       "      <td>False</td>\n",
       "      <td>False</td>\n",
       "      <td>False</td>\n",
       "      <td>False</td>\n",
       "      <td>False</td>\n",
       "      <td>False</td>\n",
       "      <td>False</td>\n",
       "      <td>False</td>\n",
       "      <td>False</td>\n",
       "      <td>False</td>\n",
       "      <td>False</td>\n",
       "      <td>False</td>\n",
       "      <td>False</td>\n",
       "      <td>False</td>\n",
       "      <td>False</td>\n",
       "      <td>False</td>\n",
       "      <td>False</td>\n",
       "    </tr>\n",
       "  </tbody>\n",
       "</table>\n",
       "<p>2000 rows × 17 columns</p>\n",
       "</div>"
      ],
      "text/plain": [
       "     Invoice ID  Branch   City  Customer type  Gender  Product line  \\\n",
       "0         False   False  False          False   False         False   \n",
       "1         False   False  False          False   False         False   \n",
       "2         False   False  False          False   False         False   \n",
       "3         False   False  False          False   False         False   \n",
       "4         False   False  False          False   False         False   \n",
       "..          ...     ...    ...            ...     ...           ...   \n",
       "323       False   False  False          False   False         False   \n",
       "324       False   False  False          False   False         False   \n",
       "325       False   False  False          False   False         False   \n",
       "326       False   False  False          False   False         False   \n",
       "327       False   False  False          False   False         False   \n",
       "\n",
       "     Unit price  Quantity  Tax 5%  Total   Date   Time  Payment   cogs  \\\n",
       "0         False     False   False  False  False  False    False  False   \n",
       "1         False     False   False  False  False  False    False  False   \n",
       "2         False     False   False  False  False  False    False  False   \n",
       "3         False     False   False  False  False  False    False  False   \n",
       "4         False     False   False  False  False  False    False  False   \n",
       "..          ...       ...     ...    ...    ...    ...      ...    ...   \n",
       "323       False     False   False  False  False  False    False  False   \n",
       "324       False     False   False  False  False  False    False  False   \n",
       "325       False     False   False  False  False  False    False  False   \n",
       "326       False     False   False  False  False  False    False  False   \n",
       "327       False     False   False  False  False  False    False  False   \n",
       "\n",
       "     gross margin percentage  gross income  Rating  \n",
       "0                      False         False   False  \n",
       "1                      False         False   False  \n",
       "2                      False         False   False  \n",
       "3                      False         False   False  \n",
       "4                      False         False   False  \n",
       "..                       ...           ...     ...  \n",
       "323                    False         False   False  \n",
       "324                    False         False   False  \n",
       "325                    False         False   False  \n",
       "326                    False         False   False  \n",
       "327                    False         False   False  \n",
       "\n",
       "[2000 rows x 17 columns]"
      ]
     },
     "execution_count": 31,
     "metadata": {},
     "output_type": "execute_result"
    }
   ],
   "source": [
    "# Below this cell write in few sentences what you can derive from the data statistical summary\n",
    "#missing values\n",
    "df.isnull()"
   ]
  },
  {
   "cell_type": "code",
   "execution_count": 32,
   "id": "aeaf6f79",
   "metadata": {},
   "outputs": [
    {
     "name": "stdout",
     "output_type": "stream",
     "text": [
      "     Invoice ID  Branch   City  Customer type  Gender  Product line  \\\n",
      "0         False   False  False          False   False         False   \n",
      "1         False   False  False          False   False         False   \n",
      "2         False   False  False          False   False         False   \n",
      "3         False   False  False          False   False         False   \n",
      "4         False   False  False          False   False         False   \n",
      "..          ...     ...    ...            ...     ...           ...   \n",
      "323       False   False  False          False   False         False   \n",
      "324       False   False  False          False   False         False   \n",
      "325       False   False  False          False   False         False   \n",
      "326       False   False  False          False   False         False   \n",
      "327       False   False  False          False   False         False   \n",
      "\n",
      "     Unit price  Quantity  Tax 5%  Total   Date   Time  Payment   cogs  \\\n",
      "0         False     False   False  False  False  False    False  False   \n",
      "1         False     False   False  False  False  False    False  False   \n",
      "2         False     False   False  False  False  False    False  False   \n",
      "3         False     False   False  False  False  False    False  False   \n",
      "4         False     False   False  False  False  False    False  False   \n",
      "..          ...       ...     ...    ...    ...    ...      ...    ...   \n",
      "323       False     False   False  False  False  False    False  False   \n",
      "324       False     False   False  False  False  False    False  False   \n",
      "325       False     False   False  False  False  False    False  False   \n",
      "326       False     False   False  False  False  False    False  False   \n",
      "327       False     False   False  False  False  False    False  False   \n",
      "\n",
      "     gross margin percentage  gross income  Rating  \n",
      "0                      False         False   False  \n",
      "1                      False         False   False  \n",
      "2                      False         False   False  \n",
      "3                      False         False   False  \n",
      "4                      False         False   False  \n",
      "..                       ...           ...     ...  \n",
      "323                    False         False   False  \n",
      "324                    False         False   False  \n",
      "325                    False         False   False  \n",
      "326                    False         False   False  \n",
      "327                    False         False   False  \n",
      "\n",
      "[2000 rows x 17 columns]\n",
      "     Invoice ID  Branch  City  Customer type  Gender  Product line  \\\n",
      "0          True    True  True           True    True          True   \n",
      "1          True    True  True           True    True          True   \n",
      "2          True    True  True           True    True          True   \n",
      "3          True    True  True           True    True          True   \n",
      "4          True    True  True           True    True          True   \n",
      "..          ...     ...   ...            ...     ...           ...   \n",
      "323        True    True  True           True    True          True   \n",
      "324        True    True  True           True    True          True   \n",
      "325        True    True  True           True    True          True   \n",
      "326        True    True  True           True    True          True   \n",
      "327        True    True  True           True    True          True   \n",
      "\n",
      "     Unit price  Quantity  Tax 5%  Total  Date  Time  Payment  cogs  \\\n",
      "0          True      True    True   True  True  True     True  True   \n",
      "1          True      True    True   True  True  True     True  True   \n",
      "2          True      True    True   True  True  True     True  True   \n",
      "3          True      True    True   True  True  True     True  True   \n",
      "4          True      True    True   True  True  True     True  True   \n",
      "..          ...       ...     ...    ...   ...   ...      ...   ...   \n",
      "323        True      True    True   True  True  True     True  True   \n",
      "324        True      True    True   True  True  True     True  True   \n",
      "325        True      True    True   True  True  True     True  True   \n",
      "326        True      True    True   True  True  True     True  True   \n",
      "327        True      True    True   True  True  True     True  True   \n",
      "\n",
      "     gross margin percentage  gross income  Rating  \n",
      "0                       True          True    True  \n",
      "1                       True          True    True  \n",
      "2                       True          True    True  \n",
      "3                       True          True    True  \n",
      "4                       True          True    True  \n",
      "..                       ...           ...     ...  \n",
      "323                     True          True    True  \n",
      "324                     True          True    True  \n",
      "325                     True          True    True  \n",
      "326                     True          True    True  \n",
      "327                     True          True    True  \n",
      "\n",
      "[2000 rows x 17 columns]\n",
      "if any missing values = False\n",
      "Number of non-missing values in variables =\n",
      "Invoice ID                 2000\n",
      "Branch                     2000\n",
      "City                       2000\n",
      "Customer type              2000\n",
      "Gender                     2000\n",
      "Product line               2000\n",
      "Unit price                 2000\n",
      "Quantity                   2000\n",
      "Tax 5%                     2000\n",
      "Total                      2000\n",
      "Date                       2000\n",
      "Time                       2000\n",
      "Payment                    2000\n",
      "cogs                       2000\n",
      "gross margin percentage    2000\n",
      "gross income               2000\n",
      "Rating                     2000\n",
      "dtype: int64\n",
      "Number of missing values in data= 0\n"
     ]
    }
   ],
   "source": [
    "# missing values \n",
    "missing_value_in_df = df.isnull()  # checking missing values\n",
    "non_missing_valuein_df = df.notnull()  # checking non-missing values\n",
    "any_missing_values_in_df = df.isnull().values.any()  # only want to know if there are any missing values\n",
    "number_non_missing_values_in_variables = df.notnull().sum()  # knowling number of non-missing values for each variable\n",
    "missing_values_in_data = df.isnull().sum().sum()  # knowing how many missing values in the data\n",
    "print(missing_value_in_df)\n",
    "print(non_missing_valuein_df)\n",
    "print('if any missing values =',any_missing_values_in_df)\n",
    "print('Number of non-missing values in variables =')\n",
    "print(number_non_missing_values_in_variables)\n",
    "print('Number of missing values in data=', missing_values_in_data)"
   ]
  },
  {
   "cell_type": "code",
   "execution_count": 33,
   "id": "c3372d69",
   "metadata": {},
   "outputs": [
    {
     "name": "stdout",
     "output_type": "stream",
     "text": [
      "<class 'pandas.core.frame.DataFrame'>\n",
      "Int64Index: 2000 entries, 0 to 327\n",
      "Data columns (total 17 columns):\n",
      " #   Column                   Non-Null Count  Dtype  \n",
      "---  ------                   --------------  -----  \n",
      " 0   Invoice ID               2000 non-null   object \n",
      " 1   Branch                   2000 non-null   object \n",
      " 2   City                     2000 non-null   object \n",
      " 3   Customer type            2000 non-null   object \n",
      " 4   Gender                   2000 non-null   object \n",
      " 5   Product line             2000 non-null   object \n",
      " 6   Unit price               2000 non-null   float64\n",
      " 7   Quantity                 2000 non-null   int64  \n",
      " 8   Tax 5%                   2000 non-null   float64\n",
      " 9   Total                    2000 non-null   float64\n",
      " 10  Date                     2000 non-null   object \n",
      " 11  Time                     2000 non-null   object \n",
      " 12  Payment                  2000 non-null   object \n",
      " 13  cogs                     2000 non-null   float64\n",
      " 14  gross margin percentage  2000 non-null   float64\n",
      " 15  gross income             2000 non-null   float64\n",
      " 16  Rating                   2000 non-null   float64\n",
      "dtypes: float64(7), int64(1), object(9)\n",
      "memory usage: 281.2+ KB\n"
     ]
    }
   ],
   "source": [
    "# Data Information\n",
    "df.info()"
   ]
  },
  {
   "cell_type": "markdown",
   "id": "14b98112",
   "metadata": {},
   "source": [
    "Dealing with DateTime Features"
   ]
  },
  {
   "cell_type": "code",
   "execution_count": 34,
   "id": "602132d9",
   "metadata": {},
   "outputs": [],
   "source": [
    "import datetime as dt"
   ]
  },
  {
   "cell_type": "code",
   "execution_count": 35,
   "id": "0d293afb",
   "metadata": {},
   "outputs": [],
   "source": [
    "#Use to_datetime() to convert the date column to datetime\n",
    "df['Date'] =  pd.to_datetime(df['Date'])"
   ]
  },
  {
   "cell_type": "code",
   "execution_count": 36,
   "id": "65c46944",
   "metadata": {},
   "outputs": [
    {
     "name": "stdout",
     "output_type": "stream",
     "text": [
      "<class 'pandas.core.frame.DataFrame'>\n",
      "Int64Index: 2000 entries, 0 to 327\n",
      "Data columns (total 17 columns):\n",
      " #   Column                   Non-Null Count  Dtype         \n",
      "---  ------                   --------------  -----         \n",
      " 0   Invoice ID               2000 non-null   object        \n",
      " 1   Branch                   2000 non-null   object        \n",
      " 2   City                     2000 non-null   object        \n",
      " 3   Customer type            2000 non-null   object        \n",
      " 4   Gender                   2000 non-null   object        \n",
      " 5   Product line             2000 non-null   object        \n",
      " 6   Unit price               2000 non-null   float64       \n",
      " 7   Quantity                 2000 non-null   int64         \n",
      " 8   Tax 5%                   2000 non-null   float64       \n",
      " 9   Total                    2000 non-null   float64       \n",
      " 10  Date                     2000 non-null   datetime64[ns]\n",
      " 11  Time                     2000 non-null   object        \n",
      " 12  Payment                  2000 non-null   object        \n",
      " 13  cogs                     2000 non-null   float64       \n",
      " 14  gross margin percentage  2000 non-null   float64       \n",
      " 15  gross income             2000 non-null   float64       \n",
      " 16  Rating                   2000 non-null   float64       \n",
      "dtypes: datetime64[ns](1), float64(7), int64(1), object(8)\n",
      "memory usage: 281.2+ KB\n"
     ]
    }
   ],
   "source": [
    "#Check the datatype to confirm if it's in datetime\n",
    "\n",
    "df.info()"
   ]
  },
  {
   "cell_type": "code",
   "execution_count": 37,
   "id": "de57c399",
   "metadata": {},
   "outputs": [],
   "source": [
    "# Repeat the two steps above to the time column\n",
    "#Use to_datetime() to convert the Time column to datetime\n",
    "df['Time'] =  pd.to_datetime(df['Time'])"
   ]
  },
  {
   "cell_type": "code",
   "execution_count": 38,
   "id": "5555c271",
   "metadata": {},
   "outputs": [
    {
     "name": "stdout",
     "output_type": "stream",
     "text": [
      "<class 'pandas.core.frame.DataFrame'>\n",
      "Int64Index: 2000 entries, 0 to 327\n",
      "Data columns (total 17 columns):\n",
      " #   Column                   Non-Null Count  Dtype         \n",
      "---  ------                   --------------  -----         \n",
      " 0   Invoice ID               2000 non-null   object        \n",
      " 1   Branch                   2000 non-null   object        \n",
      " 2   City                     2000 non-null   object        \n",
      " 3   Customer type            2000 non-null   object        \n",
      " 4   Gender                   2000 non-null   object        \n",
      " 5   Product line             2000 non-null   object        \n",
      " 6   Unit price               2000 non-null   float64       \n",
      " 7   Quantity                 2000 non-null   int64         \n",
      " 8   Tax 5%                   2000 non-null   float64       \n",
      " 9   Total                    2000 non-null   float64       \n",
      " 10  Date                     2000 non-null   datetime64[ns]\n",
      " 11  Time                     2000 non-null   datetime64[ns]\n",
      " 12  Payment                  2000 non-null   object        \n",
      " 13  cogs                     2000 non-null   float64       \n",
      " 14  gross margin percentage  2000 non-null   float64       \n",
      " 15  gross income             2000 non-null   float64       \n",
      " 16  Rating                   2000 non-null   float64       \n",
      "dtypes: datetime64[ns](2), float64(7), int64(1), object(7)\n",
      "memory usage: 281.2+ KB\n"
     ]
    }
   ],
   "source": [
    "#Check the datatype to confirm if Time is in datetime format\n",
    "df.info()"
   ]
  },
  {
   "cell_type": "markdown",
   "id": "9ba46f98",
   "metadata": {},
   "source": [
    "Extract Features from date & time"
   ]
  },
  {
   "cell_type": "code",
   "execution_count": 39,
   "id": "e9794b23",
   "metadata": {},
   "outputs": [],
   "source": [
    "#Extract the Day feature from the Date column, and save to a new Day column\n",
    "df['Day'] = df['Date'].dt.day"
   ]
  },
  {
   "cell_type": "code",
   "execution_count": 40,
   "id": "ac649948",
   "metadata": {},
   "outputs": [],
   "source": [
    "#Extract the Month feature from the Date column, and save to a new Month column\n",
    "df['Month'] = df['Date'].dt.month"
   ]
  },
  {
   "cell_type": "code",
   "execution_count": 41,
   "id": "eba64151",
   "metadata": {},
   "outputs": [],
   "source": [
    "#Extract the Year feature from the Date column, and save to a new Year column\n",
    "df['Year'] = df['Date'].dt.year"
   ]
  },
  {
   "cell_type": "code",
   "execution_count": 42,
   "id": "eb35f761",
   "metadata": {},
   "outputs": [],
   "source": [
    "#Extract the Hour feature from the Time column and save to a new Hour column\n",
    "df['Hour'] = df['Time'].dt.hour"
   ]
  },
  {
   "cell_type": "code",
   "execution_count": 43,
   "id": "d6e99530",
   "metadata": {},
   "outputs": [
    {
     "name": "stdout",
     "output_type": "stream",
     "text": [
      "Number of unique hour of sales = 11\n"
     ]
    }
   ],
   "source": [
    "#From the hours information, determine the numbers of unique hours of sales in the supermarket An array of the hours using the unique() method\n",
    "Number_unique_of_sales = df['Hour'].nunique()\n",
    "print('Number of unique hour of sales =', Number_unique_of_sales)\n"
   ]
  },
  {
   "cell_type": "code",
   "execution_count": 44,
   "id": "908a3ec4",
   "metadata": {},
   "outputs": [
    {
     "data": {
      "text/plain": [
       "array([13, 18, 17, 16, 15, 10, 12, 19, 14, 11, 20], dtype=int64)"
      ]
     },
     "execution_count": 44,
     "metadata": {},
     "output_type": "execute_result"
    }
   ],
   "source": [
    "# An array of unique hours using the unique() method\n",
    "df['Hour'].unique()"
   ]
  },
  {
   "cell_type": "markdown",
   "id": "bca7fc0c",
   "metadata": {},
   "source": [
    "Unique Values in Columns"
   ]
  },
  {
   "cell_type": "code",
   "execution_count": 45,
   "id": "3953fff2",
   "metadata": {},
   "outputs": [
    {
     "data": {
      "text/plain": [
       "['Invoice ID',\n",
       " 'Branch',\n",
       " 'City',\n",
       " 'Customer type',\n",
       " 'Gender',\n",
       " 'Product line',\n",
       " 'Payment']"
      ]
     },
     "execution_count": 45,
     "metadata": {},
     "output_type": "execute_result"
    }
   ],
   "source": [
    "#Uncomment the code and Run it\n",
    "categorical_columns = [col for col in df.columns if df[col].dtype == \"object\" ]\n",
    "categorical_columns"
   ]
  },
  {
   "cell_type": "code",
   "execution_count": 46,
   "id": "434e701c",
   "metadata": {},
   "outputs": [
    {
     "data": {
      "text/plain": [
       "['Card', 'Epay', 'Cash']"
      ]
     },
     "execution_count": 46,
     "metadata": {},
     "output_type": "execute_result"
    }
   ],
   "source": [
    "# generate the unique values in the categorical column\n",
    "df['Invoice ID'].unique().tolist()\n",
    "df['City'].unique().tolist()\n",
    "df['Customer type'].unique().tolist()\n",
    "df['Gender'].unique().tolist()\n",
    "df['Product line'].unique().tolist()\n",
    "df['Payment'].unique().tolist()"
   ]
  },
  {
   "cell_type": "code",
   "execution_count": 47,
   "id": "ff10bc98",
   "metadata": {},
   "outputs": [
    {
     "data": {
      "text/plain": [
       "['Abuja', 'Lagos', 'Port Harcourt']"
      ]
     },
     "execution_count": 47,
     "metadata": {},
     "output_type": "execute_result"
    }
   ],
   "source": [
    "df['City'].unique().tolist()\n",
    "\n"
   ]
  },
  {
   "cell_type": "code",
   "execution_count": 48,
   "id": "50292242",
   "metadata": {},
   "outputs": [
    {
     "data": {
      "text/plain": [
       "['Member', 'Normal']"
      ]
     },
     "execution_count": 48,
     "metadata": {},
     "output_type": "execute_result"
    }
   ],
   "source": [
    "df['Customer type'].unique().tolist()\n",
    "\n"
   ]
  },
  {
   "cell_type": "code",
   "execution_count": 49,
   "id": "d46e9bc9",
   "metadata": {},
   "outputs": [
    {
     "data": {
      "text/plain": [
       "['Female', 'Male']"
      ]
     },
     "execution_count": 49,
     "metadata": {},
     "output_type": "execute_result"
    }
   ],
   "source": [
    "df['Gender'].unique().tolist()\n",
    "\n",
    "\n"
   ]
  },
  {
   "cell_type": "code",
   "execution_count": 50,
   "id": "6e4a7a92",
   "metadata": {},
   "outputs": [
    {
     "data": {
      "text/plain": [
       "['Food and beverages',\n",
       " 'Fashion accessories',\n",
       " 'Electronic accessories',\n",
       " 'Sports and travel',\n",
       " 'Home and lifestyle',\n",
       " 'Health and beauty']"
      ]
     },
     "execution_count": 50,
     "metadata": {},
     "output_type": "execute_result"
    }
   ],
   "source": [
    "df['Product line'].unique().tolist()\n",
    "\n"
   ]
  },
  {
   "cell_type": "code",
   "execution_count": 51,
   "id": "4c05bb08",
   "metadata": {},
   "outputs": [
    {
     "data": {
      "text/plain": [
       "['Card', 'Epay', 'Cash']"
      ]
     },
     "execution_count": 51,
     "metadata": {},
     "output_type": "execute_result"
    }
   ],
   "source": [
    "df['Payment'].unique().tolist()"
   ]
  },
  {
   "cell_type": "code",
   "execution_count": 52,
   "id": "f6280742",
   "metadata": {},
   "outputs": [
    {
     "name": "stdout",
     "output_type": "stream",
     "text": [
      "Total Number of unique values in the Invoice ID Column: 1000\n",
      "Total Number of unique values in the City Column: 3\n",
      "Total Number of unique values in the Customer type Column: 2\n",
      "Total Number of unique values in the Gender Column: 2\n",
      "Total Number of unique values in the Product line Column: 6\n",
      "Total Number of unique values in the Payment Column: 3\n"
     ]
    }
   ],
   "source": [
    "#Number of unique vales in each categorical column\n",
    "print(\"Total Number of unique values in the Invoice ID Column: {}\". format(len(df['Invoice ID'].unique().tolist())))\n",
    "\n",
    "print(\"Total Number of unique values in the City Column: {}\". format(len(df['City'].unique().tolist())))\n",
    "\n",
    "print(\"Total Number of unique values in the Customer type Column: {}\". format(len(df['Customer type'].unique().tolist())))\n",
    "\n",
    "print(\"Total Number of unique values in the Gender Column: {}\". format(len(df['Gender'].unique().tolist())))\n",
    "\n",
    "print(\"Total Number of unique values in the Product line Column: {}\". format(len(df['Product line'].unique().tolist())))\n",
    "\n",
    "print(\"Total Number of unique values in the Payment Column: {}\". format(len(df['Payment'].unique().tolist())))"
   ]
  },
  {
   "cell_type": "code",
   "execution_count": 53,
   "id": "0b0708c1",
   "metadata": {},
   "outputs": [
    {
     "data": {
      "text/plain": [
       "A    680\n",
       "B    664\n",
       "C    656\n",
       "Name: Branch, dtype: int64"
      ]
     },
     "execution_count": 53,
     "metadata": {},
     "output_type": "execute_result"
    }
   ],
   "source": [
    "df['Branch'].value_counts()\n"
   ]
  },
  {
   "cell_type": "code",
   "execution_count": 54,
   "id": "1ae0b514",
   "metadata": {},
   "outputs": [
    {
     "data": {
      "text/plain": [
       "Lagos            680\n",
       "Abuja            664\n",
       "Port Harcourt    656\n",
       "Name: City, dtype: int64"
      ]
     },
     "execution_count": 54,
     "metadata": {},
     "output_type": "execute_result"
    }
   ],
   "source": [
    "df['City'].value_counts()\n"
   ]
  },
  {
   "cell_type": "code",
   "execution_count": 55,
   "id": "450792ae",
   "metadata": {},
   "outputs": [
    {
     "data": {
      "text/plain": [
       "Member    1002\n",
       "Normal     998\n",
       "Name: Customer type, dtype: int64"
      ]
     },
     "execution_count": 55,
     "metadata": {},
     "output_type": "execute_result"
    }
   ],
   "source": [
    "df['Customer type'].value_counts()\n"
   ]
  },
  {
   "cell_type": "code",
   "execution_count": 56,
   "id": "3f814cc4",
   "metadata": {},
   "outputs": [
    {
     "data": {
      "text/plain": [
       "Female    1002\n",
       "Male       998\n",
       "Name: Gender, dtype: int64"
      ]
     },
     "execution_count": 56,
     "metadata": {},
     "output_type": "execute_result"
    }
   ],
   "source": [
    "df['Gender'].value_counts()\n"
   ]
  },
  {
   "cell_type": "code",
   "execution_count": 57,
   "id": "a8a01de7",
   "metadata": {},
   "outputs": [
    {
     "data": {
      "text/plain": [
       "Fashion accessories       356\n",
       "Food and beverages        348\n",
       "Electronic accessories    340\n",
       "Sports and travel         332\n",
       "Home and lifestyle        320\n",
       "Health and beauty         304\n",
       "Name: Product line, dtype: int64"
      ]
     },
     "execution_count": 57,
     "metadata": {},
     "output_type": "execute_result"
    }
   ],
   "source": [
    "df['Product line'].value_counts()\n"
   ]
  },
  {
   "cell_type": "code",
   "execution_count": 58,
   "id": "530f5a71",
   "metadata": {},
   "outputs": [
    {
     "data": {
      "text/plain": [
       "Epay    690\n",
       "Cash    688\n",
       "Card    622\n",
       "Name: Payment, dtype: int64"
      ]
     },
     "execution_count": 58,
     "metadata": {},
     "output_type": "execute_result"
    }
   ],
   "source": [
    "df['Payment'].value_counts()"
   ]
  },
  {
   "cell_type": "markdown",
   "id": "30c29a6d",
   "metadata": {},
   "source": [
    "Aggregration with GroupBy"
   ]
  },
  {
   "cell_type": "code",
   "execution_count": 59,
   "id": "dce978f6",
   "metadata": {},
   "outputs": [
    {
     "data": {
      "text/html": [
       "<div>\n",
       "<style scoped>\n",
       "    .dataframe tbody tr th:only-of-type {\n",
       "        vertical-align: middle;\n",
       "    }\n",
       "\n",
       "    .dataframe tbody tr th {\n",
       "        vertical-align: top;\n",
       "    }\n",
       "\n",
       "    .dataframe thead tr th {\n",
       "        text-align: left;\n",
       "    }\n",
       "\n",
       "    .dataframe thead tr:last-of-type th {\n",
       "        text-align: right;\n",
       "    }\n",
       "</style>\n",
       "<table border=\"1\" class=\"dataframe\">\n",
       "  <thead>\n",
       "    <tr>\n",
       "      <th></th>\n",
       "      <th colspan=\"2\" halign=\"left\">Unit price</th>\n",
       "      <th colspan=\"2\" halign=\"left\">Quantity</th>\n",
       "      <th colspan=\"2\" halign=\"left\">Tax 5%</th>\n",
       "      <th colspan=\"2\" halign=\"left\">Total</th>\n",
       "      <th colspan=\"2\" halign=\"left\">cogs</th>\n",
       "      <th>...</th>\n",
       "      <th colspan=\"2\" halign=\"left\">Rating</th>\n",
       "      <th colspan=\"2\" halign=\"left\">Day</th>\n",
       "      <th colspan=\"2\" halign=\"left\">Month</th>\n",
       "      <th colspan=\"2\" halign=\"left\">Year</th>\n",
       "      <th colspan=\"2\" halign=\"left\">Hour</th>\n",
       "    </tr>\n",
       "    <tr>\n",
       "      <th></th>\n",
       "      <th>sum</th>\n",
       "      <th>mean</th>\n",
       "      <th>sum</th>\n",
       "      <th>mean</th>\n",
       "      <th>sum</th>\n",
       "      <th>mean</th>\n",
       "      <th>sum</th>\n",
       "      <th>mean</th>\n",
       "      <th>sum</th>\n",
       "      <th>mean</th>\n",
       "      <th>...</th>\n",
       "      <th>sum</th>\n",
       "      <th>mean</th>\n",
       "      <th>sum</th>\n",
       "      <th>mean</th>\n",
       "      <th>sum</th>\n",
       "      <th>mean</th>\n",
       "      <th>sum</th>\n",
       "      <th>mean</th>\n",
       "      <th>sum</th>\n",
       "      <th>mean</th>\n",
       "    </tr>\n",
       "    <tr>\n",
       "      <th>City</th>\n",
       "      <th></th>\n",
       "      <th></th>\n",
       "      <th></th>\n",
       "      <th></th>\n",
       "      <th></th>\n",
       "      <th></th>\n",
       "      <th></th>\n",
       "      <th></th>\n",
       "      <th></th>\n",
       "      <th></th>\n",
       "      <th></th>\n",
       "      <th></th>\n",
       "      <th></th>\n",
       "      <th></th>\n",
       "      <th></th>\n",
       "      <th></th>\n",
       "      <th></th>\n",
       "      <th></th>\n",
       "      <th></th>\n",
       "      <th></th>\n",
       "      <th></th>\n",
       "    </tr>\n",
       "  </thead>\n",
       "  <tbody>\n",
       "    <tr>\n",
       "      <th>Abuja</th>\n",
       "      <td>13304793.6</td>\n",
       "      <td>20037.339759</td>\n",
       "      <td>3640</td>\n",
       "      <td>5.481928</td>\n",
       "      <td>3641063.04</td>\n",
       "      <td>5483.528675</td>\n",
       "      <td>76462323.84</td>\n",
       "      <td>115154.102169</td>\n",
       "      <td>72821260.8</td>\n",
       "      <td>109670.573494</td>\n",
       "      <td>...</td>\n",
       "      <td>4527.2</td>\n",
       "      <td>6.818072</td>\n",
       "      <td>10136</td>\n",
       "      <td>15.265060</td>\n",
       "      <td>1330</td>\n",
       "      <td>2.003012</td>\n",
       "      <td>1340616</td>\n",
       "      <td>2019.0</td>\n",
       "      <td>10058</td>\n",
       "      <td>15.147590</td>\n",
       "    </tr>\n",
       "    <tr>\n",
       "      <th>Lagos</th>\n",
       "      <td>13410352.8</td>\n",
       "      <td>19721.107059</td>\n",
       "      <td>3718</td>\n",
       "      <td>5.467647</td>\n",
       "      <td>3641155.56</td>\n",
       "      <td>5354.640529</td>\n",
       "      <td>76464266.76</td>\n",
       "      <td>112447.451118</td>\n",
       "      <td>72823111.2</td>\n",
       "      <td>107092.810588</td>\n",
       "      <td>...</td>\n",
       "      <td>4778.4</td>\n",
       "      <td>7.027059</td>\n",
       "      <td>10464</td>\n",
       "      <td>15.388235</td>\n",
       "      <td>1376</td>\n",
       "      <td>2.023529</td>\n",
       "      <td>1372920</td>\n",
       "      <td>2019.0</td>\n",
       "      <td>9974</td>\n",
       "      <td>14.667647</td>\n",
       "    </tr>\n",
       "    <tr>\n",
       "      <th>Port Harcourt</th>\n",
       "      <td>13368787.2</td>\n",
       "      <td>20379.248780</td>\n",
       "      <td>3662</td>\n",
       "      <td>5.582317</td>\n",
       "      <td>3790927.08</td>\n",
       "      <td>5778.852256</td>\n",
       "      <td>79609468.68</td>\n",
       "      <td>121355.897378</td>\n",
       "      <td>75818541.6</td>\n",
       "      <td>115577.045122</td>\n",
       "      <td>...</td>\n",
       "      <td>4639.8</td>\n",
       "      <td>7.072866</td>\n",
       "      <td>9912</td>\n",
       "      <td>15.109756</td>\n",
       "      <td>1280</td>\n",
       "      <td>1.951220</td>\n",
       "      <td>1324464</td>\n",
       "      <td>2019.0</td>\n",
       "      <td>9788</td>\n",
       "      <td>14.920732</td>\n",
       "    </tr>\n",
       "  </tbody>\n",
       "</table>\n",
       "<p>3 rows × 24 columns</p>\n",
       "</div>"
      ],
      "text/plain": [
       "               Unit price               Quantity                Tax 5%  \\\n",
       "                      sum          mean      sum      mean         sum   \n",
       "City                                                                     \n",
       "Abuja          13304793.6  20037.339759     3640  5.481928  3641063.04   \n",
       "Lagos          13410352.8  19721.107059     3718  5.467647  3641155.56   \n",
       "Port Harcourt  13368787.2  20379.248780     3662  5.582317  3790927.08   \n",
       "\n",
       "                                  Total                       cogs  \\\n",
       "                      mean          sum           mean         sum   \n",
       "City                                                                 \n",
       "Abuja          5483.528675  76462323.84  115154.102169  72821260.8   \n",
       "Lagos          5354.640529  76464266.76  112447.451118  72823111.2   \n",
       "Port Harcourt  5778.852256  79609468.68  121355.897378  75818541.6   \n",
       "\n",
       "                              ...  Rating              Day            Month  \\\n",
       "                        mean  ...     sum      mean    sum       mean   sum   \n",
       "City                          ...                                             \n",
       "Abuja          109670.573494  ...  4527.2  6.818072  10136  15.265060  1330   \n",
       "Lagos          107092.810588  ...  4778.4  7.027059  10464  15.388235  1376   \n",
       "Port Harcourt  115577.045122  ...  4639.8  7.072866   9912  15.109756  1280   \n",
       "\n",
       "                            Year           Hour             \n",
       "                   mean      sum    mean    sum       mean  \n",
       "City                                                        \n",
       "Abuja          2.003012  1340616  2019.0  10058  15.147590  \n",
       "Lagos          2.023529  1372920  2019.0   9974  14.667647  \n",
       "Port Harcourt  1.951220  1324464  2019.0   9788  14.920732  \n",
       "\n",
       "[3 rows x 24 columns]"
      ]
     },
     "execution_count": 59,
     "metadata": {},
     "output_type": "execute_result"
    }
   ],
   "source": [
    "#Your task here, will be to create a groupby object with the \"City Column\", and aggregation function of sum and mean\n",
    "# Creating a groupby object to group the dataset according to City \n",
    "city = df.groupby(\"City\")\n",
    "\n",
    "#To get the sum and mean of the numeric columns \n",
    "city.agg([\"sum\", \"mean\"])"
   ]
  },
  {
   "cell_type": "code",
   "execution_count": 60,
   "id": "20f29c5e",
   "metadata": {},
   "outputs": [],
   "source": [
    "#Using the groupby object, display a table that shows the gross income of each city, and determine the city with the highest total gross income.\n",
    "# Using the groupby object ot get the gross income of each city\n",
    "\n",
    "gross_income_city = city['gross income'].sum().reset_index()\n",
    "\n",
    "\n"
   ]
  },
  {
   "cell_type": "code",
   "execution_count": 61,
   "id": "b9da4b59",
   "metadata": {},
   "outputs": [
    {
     "data": {
      "text/html": [
       "<div>\n",
       "<style scoped>\n",
       "    .dataframe tbody tr th:only-of-type {\n",
       "        vertical-align: middle;\n",
       "    }\n",
       "\n",
       "    .dataframe tbody tr th {\n",
       "        vertical-align: top;\n",
       "    }\n",
       "\n",
       "    .dataframe thead th {\n",
       "        text-align: right;\n",
       "    }\n",
       "</style>\n",
       "<table border=\"1\" class=\"dataframe\">\n",
       "  <thead>\n",
       "    <tr style=\"text-align: right;\">\n",
       "      <th></th>\n",
       "      <th>City</th>\n",
       "      <th>gross income</th>\n",
       "    </tr>\n",
       "  </thead>\n",
       "  <tbody>\n",
       "    <tr>\n",
       "      <th>0</th>\n",
       "      <td>Abuja</td>\n",
       "      <td>3641063.04</td>\n",
       "    </tr>\n",
       "    <tr>\n",
       "      <th>1</th>\n",
       "      <td>Lagos</td>\n",
       "      <td>3641155.56</td>\n",
       "    </tr>\n",
       "    <tr>\n",
       "      <th>2</th>\n",
       "      <td>Port Harcourt</td>\n",
       "      <td>3790927.08</td>\n",
       "    </tr>\n",
       "  </tbody>\n",
       "</table>\n",
       "</div>"
      ],
      "text/plain": [
       "            City  gross income\n",
       "0          Abuja    3641063.04\n",
       "1          Lagos    3641155.56\n",
       "2  Port Harcourt    3790927.08"
      ]
     },
     "execution_count": 61,
     "metadata": {},
     "output_type": "execute_result"
    }
   ],
   "source": [
    "gross_income_city"
   ]
  },
  {
   "cell_type": "code",
   "execution_count": 62,
   "id": "c5aa1332",
   "metadata": {},
   "outputs": [
    {
     "name": "stdout",
     "output_type": "stream",
     "text": [
      "The highest gross income is generated by Port Harcourt: 3790927.08\n"
     ]
    }
   ],
   "source": [
    "print(\"The highest gross income is generated by Port Harcourt:\", df.groupby('City')['gross income'].sum().max())\n"
   ]
  },
  {
   "cell_type": "code",
   "execution_count": 63,
   "id": "0785c9c2",
   "metadata": {},
   "outputs": [
    {
     "data": {
      "text/plain": [
       "City\n",
       "Abuja            13304793.6\n",
       "Lagos            13410352.8\n",
       "Port Harcourt    13368787.2\n",
       "Name: Unit price, dtype: float64"
      ]
     },
     "execution_count": 63,
     "metadata": {},
     "output_type": "execute_result"
    }
   ],
   "source": [
    "df.groupby('City')['Unit price'].sum()"
   ]
  },
  {
   "cell_type": "code",
   "execution_count": 64,
   "id": "bf501f0c",
   "metadata": {},
   "outputs": [
    {
     "name": "stdout",
     "output_type": "stream",
     "text": [
      "The highest Unit price: 13410352.8\n"
     ]
    }
   ],
   "source": [
    "print(\"The highest Unit price:\", df.groupby('City')['Unit price'].sum().max())"
   ]
  },
  {
   "cell_type": "code",
   "execution_count": 65,
   "id": "d37fcab8",
   "metadata": {},
   "outputs": [
    {
     "data": {
      "text/plain": [
       "City\n",
       "Abuja            3640\n",
       "Lagos            3718\n",
       "Port Harcourt    3662\n",
       "Name: Quantity, dtype: int64"
      ]
     },
     "execution_count": 65,
     "metadata": {},
     "output_type": "execute_result"
    }
   ],
   "source": [
    "df.groupby('City')['Quantity'].sum()"
   ]
  },
  {
   "cell_type": "code",
   "execution_count": 66,
   "id": "1b6c4491",
   "metadata": {},
   "outputs": [
    {
     "name": "stdout",
     "output_type": "stream",
     "text": [
      "The highest Quantity: 3718\n"
     ]
    }
   ],
   "source": [
    "print(\"The highest Quantity:\", df.groupby('City')['Quantity'].sum().max())"
   ]
  },
  {
   "cell_type": "markdown",
   "id": "dc1d928a",
   "metadata": {},
   "source": [
    "Data Visualization"
   ]
  },
  {
   "cell_type": "code",
   "execution_count": 67,
   "id": "36da6213",
   "metadata": {},
   "outputs": [
    {
     "name": "stdout",
     "output_type": "stream",
     "text": [
      "Branch A has the highest sales record.\n"
     ]
    },
    {
     "data": {
      "image/png": "[encoded data removed]",
      "text/plain": [
       "<Figure size 432x288 with 1 Axes>"
      ]
     },
     "metadata": {},
     "output_type": "display_data"
    }
   ],
   "source": [
    "#Using countplot, determine the branch with the highest sales record\n",
    "sns.countplot(x= 'Branch', data = df).set_title('Sales record for Branches')\n",
    "print('Branch A has the highest sales record.')"
   ]
  },
  {
   "cell_type": "code",
   "execution_count": 69,
   "id": "28931aa1",
   "metadata": {},
   "outputs": [
    {
     "name": "stdout",
     "output_type": "stream",
     "text": [
      "The most used payment method is Epay with a count of 690\n"
     ]
    },
    {
     "data": {
      "image/png": "[encoded data removed]",
      "text/plain": [
       "<Figure size 432x288 with 1 Axes>"
      ]
     },
     "metadata": {},
     "output_type": "display_data"
    }
   ],
   "source": [
    "# most used payment method,\n",
    "sns.countplot(x='Payment', data=df).set_title('Payment method')\n",
    "print('The most used payment method is Epay with a count of 690')"
   ]
  },
  {
   "cell_type": "code",
   "execution_count": 70,
   "id": "ac3365f1",
   "metadata": {},
   "outputs": [
    {
     "name": "stdout",
     "output_type": "stream",
     "text": [
      "The City with the most sales is Lagos\n"
     ]
    },
    {
     "data": {
      "image/png": "[encoded data removed]",
      "text/plain": [
       "<Figure size 432x288 with 1 Axes>"
      ]
     },
     "metadata": {},
     "output_type": "display_data"
    }
   ],
   "source": [
    "#city with the most sales\n",
    "sns.countplot(x = 'City', data = df).set_title('Sales across cities')\n",
    "print('The City with the most sales is Lagos')"
   ]
  },
  {
   "cell_type": "code",
   "execution_count": 71,
   "id": "caa9edd4",
   "metadata": {},
   "outputs": [
    {
     "name": "stdout",
     "output_type": "stream",
     "text": [
      "The highest product line sold is Fashion accessories\n",
      "The lowest product line sold is Health and Beauty\n"
     ]
    },
    {
     "data": {
      "image/png": "[encoded data removed]",
      "text/plain": [
       "<Figure size 432x288 with 1 Axes>"
      ]
     },
     "metadata": {},
     "output_type": "display_data"
    }
   ],
   "source": [
    "# Determine the highest & lowest sold product line, using Countplot\n",
    "sns.countplot(y = 'Product line', data = df).set_title('Sales for different product line')\n",
    "print('The highest product line sold is Fashion accessories')\n",
    "print('The lowest product line sold is Health and Beauty')"
   ]
  },
  {
   "cell_type": "code",
   "execution_count": 72,
   "id": "b85abe93",
   "metadata": {},
   "outputs": [
    {
     "name": "stdout",
     "output_type": "stream",
     "text": [
      "Food and Beverage: Payment channel most used is Card\n",
      "Fashion accessories: Payment channel most used is Epay\n",
      "Electronic accessories: Payment channel most used is Cash\n",
      "Sports and travel: Payment channel most used is Cash\n",
      "Home and lifestyle: Payment channel most used is Epay\n",
      "Health and Beauty: Payment channel most used is Epay\n"
     ]
    },
    {
     "data": {
      "image/png": "[encoded data removed]",
      "text/plain": [
       "<Figure size 432x288 with 1 Axes>"
      ]
     },
     "metadata": {},
     "output_type": "display_data"
    }
   ],
   "source": [
    "#Determine the Payment channel used by most customer to pay for each product line\n",
    "sns.countplot(y = 'Product line', data = df, hue = 'Payment').set_title('Payment channel for Product lines')\n",
    "print('Food and Beverage: Payment channel most used is Card')\n",
    "print('Fashion accessories: Payment channel most used is Epay')\n",
    "print('Electronic accessories: Payment channel most used is Cash')\n",
    "print('Sports and travel: Payment channel most used is Cash')\n",
    "print('Home and lifestyle: Payment channel most used is Epay')\n",
    "print('Health and Beauty: Payment channel most used is Epay')"
   ]
  },
  {
   "cell_type": "code",
   "execution_count": 73,
   "id": "fbae3299",
   "metadata": {},
   "outputs": [
    {
     "name": "stdout",
     "output_type": "stream",
     "text": [
      "The most used Payment channel for Branch A is Epay\n",
      "The most used Payment channel for Branch B is Epay\n",
      "The most used Payment channel for Branch C is Cash\n"
     ]
    },
    {
     "data": {
      "image/png": "[encoded data removed]",
      "text/plain": [
       "<Figure size 432x288 with 1 Axes>"
      ]
     },
     "metadata": {},
     "output_type": "display_data"
    }
   ],
   "source": [
    "#Determine the Payment channel for each branch.\n",
    "sns.countplot(x = 'Payment', data = df, hue = 'Branch').set_title('Payment mode used by customers for each Branch')\n",
    "plt.legend(loc='upper left', bbox_to_anchor=(1.25, 0.5), ncol=1)\n",
    "print('The most used Payment channel for Branch A is Epay')\n",
    "print('The most used Payment channel for Branch B is Epay')\n",
    "print('The most used Payment channel for Branch C is Cash')"
   ]
  },
  {
   "cell_type": "code",
   "execution_count": 74,
   "id": "5d03da15",
   "metadata": {},
   "outputs": [
    {
     "name": "stdout",
     "output_type": "stream",
     "text": [
      "Branch with the lowest rating is B\n"
     ]
    },
    {
     "data": {
      "image/png": "[encoded data removed]",
      "text/plain": [
       "<Figure size 432x288 with 1 Axes>"
      ]
     },
     "metadata": {},
     "output_type": "display_data"
    }
   ],
   "source": [
    "#Determine the branch with the lowest rating using box plot\n",
    "sns.boxplot(x = 'Branch', y = 'Rating', data = df).set_title(\"Rating for Branches\")\n",
    "print('Branch with the lowest rating is B')"
   ]
  },
  {
   "cell_type": "code",
   "execution_count": 75,
   "id": "cbef9fc0",
   "metadata": {},
   "outputs": [
    {
     "data": {
      "image/png": "[encoded data removed]",
      "text/plain": [
       "<Figure size 1541.15x360 with 1 Axes>"
      ]
     },
     "metadata": {},
     "output_type": "display_data"
    }
   ],
   "source": [
    "# A catplot() generate visualization for the \"product line\" on x-axis, quantity on the y-axis, and hue showing that gender type often affects the kind of products being purchased at the supermarket.\n",
    "sns.catplot(x = 'Product line', y = 'Quantity', hue = 'Gender', kind= 'boxen', data = df, aspect = 4);"
   ]
  },
  {
   "cell_type": "code",
   "execution_count": 76,
   "id": "d468497d",
   "metadata": {},
   "outputs": [
    {
     "data": {
      "text/plain": [
       "<seaborn.axisgrid.FacetGrid at 0x641ed1df40>"
      ]
     },
     "execution_count": 76,
     "metadata": {},
     "output_type": "execute_result"
    },
    {
     "data": {
      "image/png": "[encoded data removed]",
      "text/plain": [
       "<Figure size 1440x360 with 1 Axes>"
      ]
     },
     "metadata": {},
     "output_type": "display_data"
    }
   ],
   "source": [
    "# insight to explore is the interaction of Unit price on the Quantity of goods purchased\n",
    "#Use the catplot() to plot Product line per unit price, \n",
    "sns.catplot(y = 'Unit price', x = 'Product line', kind= 'point', data = df, aspect = 4)"
   ]
  },
  {
   "cell_type": "code",
   "execution_count": 77,
   "id": "508ce359",
   "metadata": {},
   "outputs": [
    {
     "data": {
      "image/png": "[encoded data removed]",
      "text/plain": [
       "<Figure size 1440x360 with 1 Axes>"
      ]
     },
     "metadata": {},
     "output_type": "display_data"
    }
   ],
   "source": [
    "#Product line per Quantity. Set the kind parameter to point\n",
    "sns.catplot(y = 'Quantity', x = 'Product line', kind= 'point', data = df, aspect = 4);"
   ]
  },
  {
   "cell_type": "code",
   "execution_count": 81,
   "id": "cf79ab23",
   "metadata": {},
   "outputs": [
    {
     "data": {
      "text/plain": [
       "<AxesSubplot:xlabel='City', ylabel='gross income'>"
      ]
     },
     "execution_count": 81,
     "metadata": {},
     "output_type": "execute_result"
    },
    {
     "data": {
      "image/png": "[encoded data removed]",
      "text/plain": [
       "<Figure size 432x288 with 1 Axes>"
      ]
     },
     "metadata": {},
     "output_type": "display_data"
    }
   ],
   "source": [
    "sns.barplot(x='City', y= 'gross income', data= df)"
   ]
  },
  {
   "cell_type": "markdown",
   "id": "9fc070bc",
   "metadata": {},
   "source": [
    "Summary\n",
    "\n",
    "1. Data set is large with exactly 68,000 elements (4000 rows and 17 columns). \n",
    "\n",
    "2. The elements for categorical raw data are complete. \n",
    "\n",
    "    Approach:\n",
    "    \n",
    "The approaches for data analyses for company XYZ were to combine seperate data set for each city, make inferential and descriptive statistical analyses and obtain key facts that show and compare the sales performances for Company's branches.\n",
    "\n",
    "    Method:\n",
    "    \n",
    "These were accomplished using some python packages such as pandas analytical tools, Numpy, and Matplotlib as well as data illustrative tools such as Seaborn's statistical visualization package. \n",
    "\n",
    "    Insights:\n",
    "    \n",
    "Python packages such as pandas analytical tools, Numpy, and Matplotlib as well as data illustrative tools such as Seaborn's statistical visualization package are very efficient and powerful in analysing huge data sets.\n",
    "\n",
    "Coding lines are not too restictive, i.e packages are user-friendly and flexible. Users creativity shows that usage can be interesting.\n",
    "\n",
    "Some 'take-home' facts about the company XYZ include:  \n",
    "Sales of Electronic and fashion accessories are almost at par. Sales across cities are very competitive with close matching records. \n",
    "\n",
    "Though quantities purchased for product lines generally are low, most customers prefer using Cash and Epay payment methods."
   ]
  },
  {
   "cell_type": "markdown",
   "id": "cadabbb4",
   "metadata": {},
   "source": [
    "Documentation\n"
   ]
  }
 ],
 "metadata": {
  "kernelspec": {
   "display_name": "Python 3 (ipykernel)",
   "language": "python",
   "name": "python3"
  },
  "language_info": {
   "codemirror_mode": {
    "name": "ipython",
    "version": 3
   },
   "file_extension": ".py",
   "mimetype": "text/x-python",
   "name": "python",
   "nbconvert_exporter": "python",
   "pygments_lexer": "ipython3",
   "version": "3.9.12"
  }
 },
 "nbformat": 4,
 "nbformat_minor": 5
}
